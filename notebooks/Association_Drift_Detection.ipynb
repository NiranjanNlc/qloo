{
  "cells": [
    {
      "cell_type": "code",
      "execution_count": null,
      "metadata": {
        "vscode": {
          "languageId": "plaintext"
        }
      },
      "outputs": [],
      "source": [
        "# Association Drift Detection for Qloo Supermarket Optimizer\n",
        "\n",
        "This notebook implements statistical and machine learning methods to detect drift in product associations over time. Association drift occurs when customer purchasing patterns change, making previously reliable product associations less accurate.\n",
        "\n",
        "## Objectives:\n",
        "- Detect temporal changes in association rules\n",
        "- Identify seasonality patterns in product relationships\n",
        "- Flag associations requiring model retraining\n",
        "- Provide early warning system for recommendation quality degradation\n",
        "\n",
        "## Methods:\n",
        "1. **Statistical Drift Detection**: Chi-square tests, KS tests\n",
        "2. **Distribution Comparison**: Earth Mover's Distance, KL Divergence\n",
        "3. **Time Series Analysis**: CUSUM, ADWIN algorithms\n",
        "4. **Machine Learning**: Isolation Forest for anomaly detection\n",
        "\n",
        "---\n"
      ]
    },
    {
      "cell_type": "code",
      "execution_count": null,
      "metadata": {},
      "outputs": [],
      "source": [
        "# Import required libraries\n",
        "import pandas as pd\n",
        "import numpy as np\n",
        "import matplotlib.pyplot as plt\n",
        "import seaborn as sns\n",
        "from datetime import datetime, timedelta\n",
        "import warnings\n",
        "warnings.filterwarnings('ignore')\n",
        "\n",
        "# Statistical libraries\n",
        "from scipy import stats\n",
        "from scipy.spatial.distance import wasserstein_distance\n",
        "from sklearn.ensemble import IsolationForest\n",
        "from sklearn.preprocessing import StandardScaler\n",
        "\n",
        "# Time series libraries\n",
        "from statsmodels.tsa.seasonal import seasonal_decompose\n",
        "from statsmodels.tsa.stattools import adfuller\n",
        "import plotly.express as px\n",
        "import plotly.graph_objects as go\n",
        "from plotly.subplots import make_subplots\n",
        "\n",
        "# Set style\n",
        "plt.style.use('seaborn-v0_8')\n",
        "sns.set_palette(\"husl\")\n",
        "\n",
        "print(\"📊 Association Drift Detection Notebook Initialized\")\n",
        "print(f\"📅 Analysis Date: {datetime.now().strftime('%Y-%m-%d %H:%M:%S')}\")\n"
      ]
    }
  ],
  "metadata": {
    "language_info": {
      "name": "python"
    }
  },
  "nbformat": 4,
  "nbformat_minor": 2
}
